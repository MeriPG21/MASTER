{
 "cells": [
  {
   "cell_type": "code",
   "execution_count": null,
   "id": "1ed0b1fc",
   "metadata": {},
   "outputs": [
    {
     "name": "stdout",
     "output_type": "stream",
     "text": [
      "1. Partida modo solitario \n",
      "2. Partida 2 jugadores \n",
      "3. Estadística \n",
      "4. Salir\n",
      "1\n",
      "Has escogido la 1 opción\n",
      "Elige la dificultad \n",
      "1. Fácil (20 intentos) \n",
      "2. Medio (12 intentos) \n",
      "3. Difícil (5 intentos)\n",
      "3\n",
      "Has escogido el nivel 3 de dificultad\n",
      "257\n",
      "257\n",
      "Has ganado\n",
      "1. Partida modo solitario \n",
      "2. Partida 2 jugadores \n",
      "3. Estadística \n",
      "4. Salir\n",
      "3\n",
      "Has escogido la 3 opción\n",
      "1. Partida modo solitario \n",
      "2. Partida 2 jugadores \n",
      "3. Estadística \n",
      "4. Salir\n"
     ]
    }
   ],
   "source": [
    "import opciones as modulo_opciones\n",
    "import jugadores as modulo_jugadores\n",
    "import juego_solitario as modulo_solitario \n",
    "import nombre\n",
    "import resultados\n",
    "\n",
    "while True: \n",
    "    opcion = modulo_opciones.menu()\n",
    "    print(\"Has escogido la\", opcion, \"opción\")\n",
    "    if opcion == 1: \n",
    "        jugador = nombre.generar_nombre()\n",
    "        resultado = modulo_solitario.solitario()\n",
    "        juego = \"Solitario\"\n",
    "        resultados.registrar_resultado(jugador, resultado, juego)\n",
    "    elif opcion == 2:\n",
    "        jugador = nombre.generar_nombre()\n",
    "        resultado = modulo_jugadores.dos_jugadores()\n",
    "        juego = \"Dos jugadores\"\n",
    "        resultados.registrar_resultado(jugador, resultado, juego)\n",
    "    elif opcion == 3:\n",
    "        resultados.estadistica_juego()\n",
    "    elif opcion == 4:\n",
    "        print (\"Vuelve pronto\")\n",
    "        break"
   ]
  },
  {
   "cell_type": "code",
   "execution_count": null,
   "id": "37dd7606",
   "metadata": {},
   "outputs": [],
   "source": []
  }
 ],
 "metadata": {
  "kernelspec": {
   "display_name": "Python 3 (ipykernel)",
   "language": "python",
   "name": "python3"
  },
  "language_info": {
   "codemirror_mode": {
    "name": "ipython",
    "version": 3
   },
   "file_extension": ".py",
   "mimetype": "text/x-python",
   "name": "python",
   "nbconvert_exporter": "python",
   "pygments_lexer": "ipython3",
   "version": "3.11.5"
  }
 },
 "nbformat": 4,
 "nbformat_minor": 5
}
